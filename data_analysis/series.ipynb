{
 "cells": [
  {
   "cell_type": "code",
   "execution_count": 2,
   "id": "dad576f1",
   "metadata": {},
   "outputs": [
    {
     "name": "stdout",
     "output_type": "stream",
     "text": [
      "Series([], dtype: object)\n"
     ]
    }
   ],
   "source": [
    "import pandas as pd\n",
    "import numpy as np\n",
    "ser = pd.Series()\n",
    "print(ser)"
   ]
  },
  {
   "cell_type": "code",
   "execution_count": 3,
   "id": "0735af68",
   "metadata": {},
   "outputs": [
    {
     "name": "stdout",
     "output_type": "stream",
     "text": [
      "0    George\n",
      "1    Martin\n",
      "2     Sarah\n",
      "dtype: object\n"
     ]
    }
   ],
   "source": [
    "# converting the numpy array into series\n",
    "data = np.array(['George', 'Martin', 'Sarah'])\n",
    "data2 = pd.Series(data)\n",
    "print(data2)\n"
   ]
  },
  {
   "cell_type": "code",
   "execution_count": 4,
   "id": "0986f1f2",
   "metadata": {},
   "outputs": [
    {
     "name": "stdout",
     "output_type": "stream",
     "text": [
      "Name    George\n",
      "Age         30\n",
      "dtype: object\n"
     ]
    }
   ],
   "source": [
    "# converting a dic to series\n",
    "\n",
    "dict = {\"Name\":\"George\",\"Age\":\"30\"}\n",
    "\n",
    "dict2 = pd.Series(dict)\n",
    "print(dict2)"
   ]
  },
  {
   "cell_type": "code",
   "execution_count": null,
   "id": "cb6b1db1",
   "metadata": {},
   "outputs": [
    {
     "name": "stdout",
     "output_type": "stream",
     "text": [
      "0     1.00\n",
      "1     3.25\n",
      "2     5.50\n",
      "3     7.75\n",
      "4    10.00\n",
      "dtype: float64\n"
     ]
    }
   ],
   "source": [
    "# in this case we are using series to print the values from 1 to 10 but these should be 5 numbers\n",
    "ser3 = pd.Series(np.linspace(1,10,5))\n",
    "print(ser3)"
   ]
  },
  {
   "cell_type": "code",
   "execution_count": 12,
   "id": "231395bf",
   "metadata": {},
   "outputs": [
    {
     "name": "stdout",
     "output_type": "stream",
     "text": [
      "0    1.0\n",
      "1    2.8\n",
      "2    4.6\n",
      "3    6.4\n",
      "4    8.2\n",
      "dtype: float64\n"
     ]
    }
   ],
   "source": [
    "ser4 = pd.Series(np.linspace(1,10,5, endpoint = False))\n",
    "print(ser4)"
   ]
  },
  {
   "cell_type": "code",
   "execution_count": 14,
   "id": "e330330c",
   "metadata": {},
   "outputs": [
    {
     "name": "stdout",
     "output_type": "stream",
     "text": [
      "0    1\n",
      "1    2\n",
      "2    3\n",
      "3    4\n",
      "dtype: int64\n"
     ]
    }
   ],
   "source": [
    "ser5 = pd.Series(range(1,5))\n",
    "print(ser5)"
   ]
  }
 ],
 "metadata": {
  "kernelspec": {
   "display_name": "venv",
   "language": "python",
   "name": "python3"
  },
  "language_info": {
   "codemirror_mode": {
    "name": "ipython",
    "version": 3
   },
   "file_extension": ".py",
   "mimetype": "text/x-python",
   "name": "python",
   "nbconvert_exporter": "python",
   "pygments_lexer": "ipython3",
   "version": "3.12.4"
  }
 },
 "nbformat": 4,
 "nbformat_minor": 5
}
