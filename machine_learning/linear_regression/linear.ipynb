{
 "cells": [
  {
   "cell_type": "markdown",
   "id": "67b11362",
   "metadata": {},
   "source": [
    "Specific objectives\n",
    "1. Build the predictive model that can estimate the expected revenue of movie\n",
    "2. Provide insights\n",
    "3. Compare linear regression performance with more advanced models\n",
    "\n",
    "STEP 1\n",
    "Import the libraries and dataset e.g. pandas, numpy, matplotlib e.t.c\n",
    "\n",
    "STEP 2 \n",
    "Preprocessing and modelling\n",
    "a) train test split\n",
    "b) LabelEncoder\n",
    "c) Standardscaler: Scales features for better model performance\n",
    "d) countVectorizer: converts text data into numeric vectors\n",
    "e)Metrics: Offers tools for evaluating model accuracy\n",
    "\n",
    "Advanced modeling\n",
    "xgboost- A high performance gradient boosting algorithms\n",
    "utility\n",
    "warnings.filterwarnings(\"ignore\"): Hides unnecessary warning messages for cleaner output"
   ]
  }
 ],
 "metadata": {
  "kernelspec": {
   "display_name": "venv",
   "language": "python",
   "name": "python3"
  },
  "language_info": {
   "name": "python",
   "version": "3.12.1"
  }
 },
 "nbformat": 4,
 "nbformat_minor": 5
}
